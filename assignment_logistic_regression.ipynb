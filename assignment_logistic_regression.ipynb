{
 "cells": [
  {
   "cell_type": "markdown",
   "metadata": {
    "id": "wNEUsAHHCGk2"
   },
   "source": [
    "##ASSIGNMENT\n",
    "#Dataset\n",
    "Assume you are a scientist who is trying to make a propellent and is trying many tests to make an efficient propellent .\n",
    "<br>\n",
    "You have performed two tests.\n",
    "<br>\n",
    "From the two tests you would like whether this propellent works efficiently or not.\n",
    "Build your own logistic regression model to decide .\n",
    "<br>\n",
    "Text with \"DO NOT EDIT THIS CODE\" needs to be only run do not edit it\n"
   ]
  },
  {
   "cell_type": "code",
   "execution_count": 97,
   "metadata": {
    "id": "xJm_XXJo4RDg"
   },
   "outputs": [],
   "source": [
    "import numpy as np#import libraries\n",
    "import matplotlib.pyplot as plt#write your code.\n",
    "import math"
   ]
  },
  {
   "cell_type": "code",
   "execution_count": 98,
   "metadata": {
    "id": "YtL0jW6m4e1A"
   },
   "outputs": [],
   "source": [
    "#load data\n",
    "data=np.loadtxt(\"data.txt\", delimiter=',')\n",
    "X=data[:,:2]\n",
    "y=data[:,2]\n",
    "X_train=X\n",
    "y_train=y"
   ]
  },
  {
   "cell_type": "code",
   "execution_count": 99,
   "metadata": {
    "id": "Bk2qYHyk4mNm"
   },
   "outputs": [],
   "source": [
    "#plot data to visualise\n",
    "def plot_data(X,y,positive_label=\"y=1\", negative_label=\"y=0\"):\n",
    "#positive_label and negative_label refers to classes of y as y can be 0 or 1\n",
    "    positive = y == 1\n",
    "    negative = y == 0\n",
    "    plt.plot(X[positive, 0], X[positive, 1], 'k+', label=positive_label)\n",
    "    plt.plot(X[negative, 0], X[negative, 1], 'yo', label=negative_label)\n",
    "#While plotting graph the label parameter will be either positive_label or negative_label so plot both the labels for"
   ]
  },
  {
   "cell_type": "code",
   "execution_count": 100,
   "metadata": {
    "id": "RzsMdrwv58tQ"
   },
   "outputs": [
    {
     "data": {
      "image/png": "[encoded data removed]",
      "text/plain": [
       "<Figure size 640x480 with 1 Axes>"
      ]
     },
     "metadata": {},
     "output_type": "display_data"
    }
   ],
   "source": [
    "#test\n",
    "plot_data(X_train, y_train[:], positive_label=\"Accepted\", negative_label=\"Rejected\")\n",
    "\n",
    "\n",
    "plt.xlabel('Test 2')\n",
    "plt.ylabel('Test 1')\n",
    "plt.legend(loc=\"upper right\")\n",
    "plt.show()"
   ]
  },
  {
   "cell_type": "code",
   "execution_count": 101,
   "metadata": {
    "id": "KhRBdaFi6nKo"
   },
   "outputs": [],
   "source": [
    "#feature mapping\n",
    "def map_feature(X1,X2):\n",
    "  X1=np.atleast_1d(X1)\n",
    "  X2=np.atleast_1d(X2)\n",
    "  degree=6\n",
    "  out=[]\n",
    "  for i in range(1,degree+1):\n",
    "    for j in range(i+1):\n",
    "      out.append((X1**(i-j) * (X2**j)))\n",
    "  return np.stack(out, axis=1)"
   ]
  },
  {
   "cell_type": "code",
   "execution_count": 102,
   "metadata": {
    "id": "PNS4kJfq6_m8"
   },
   "outputs": [
    {
     "name": "stdout",
     "output_type": "stream",
     "text": [
      "Original shape of data: (118, 2)\n",
      "Shape after feature mapping: (118, 27)\n"
     ]
    }
   ],
   "source": [
    "print(\"Original shape of data:\", X_train.shape)\n",
    "\n",
    "mapped_X =  map_feature(X_train[:, 0], X_train[:, 1])\n",
    "print(\"Shape after feature mapping:\", mapped_X.shape)"
   ]
  },
  {
   "cell_type": "code",
   "execution_count": 103,
   "metadata": {
    "cellView": "form",
    "id": "BqlxZOXoHh4z"
   },
   "outputs": [],
   "source": [
    "# @title DO NOT EDIT THIS CODE\n",
    "def sigmoid_test(target):\n",
    "    assert np.isclose(target(3.0), 0.9525741268224334), \"Failed for scalar input\"\n",
    "    assert np.allclose(target(np.array([2.5, 0])), [0.92414182, 0.5]), \"Failed for 1D array\"\n",
    "    assert np.allclose(target(np.array([[2.5, -2.5], [0, 1]])),\n",
    "                       [[0.92414182, 0.07585818], [0.5, 0.73105858]]), \"Failed for 2D array\"\n",
    "    print('\\033[92mTests passed!')"
   ]
  },
  {
   "cell_type": "code",
   "execution_count": 104,
   "metadata": {
    "id": "wdgE-ay07C0P"
   },
   "outputs": [],
   "source": [
    "#sigmoid function\n",
    "def sigmoid(z):\n",
    "    return 1 / (1 + np.exp(-z)) #write your code\n",
    "\n",
    "\n"
   ]
  },
  {
   "cell_type": "code",
   "execution_count": 105,
   "metadata": {
    "id": "9XOlXXyxHnmB"
   },
   "outputs": [
    {
     "name": "stdout",
     "output_type": "stream",
     "text": [
      "\u001b[92mTests passed!\n"
     ]
    }
   ],
   "source": [
    "sigmoid_test(sigmoid)\n"
   ]
  },
  {
   "cell_type": "code",
   "execution_count": 106,
   "metadata": {
    "cellView": "form",
    "id": "QLqfyxPrH-v-"
   },
   "outputs": [],
   "source": [
    "# @title DO NOT EDIT THIS CODE\n",
    "def compute_cost_test(target):\n",
    "    X = np.array([[0, 0, 0, 0]]).T\n",
    "    y = np.array([0, 0, 0, 0])\n",
    "    w = np.array([0])\n",
    "    b = 1\n",
    "    result = target(X, y, w, b)\n",
    "    if math.isinf(result):\n",
    "        raise ValueError(\"Did you get the sigmoid of z_wb?\")\n",
    "\n",
    "    np.random.seed(17)\n",
    "    X = np.random.randn(5, 2)\n",
    "    y = np.array([1, 0, 0, 1, 1])\n",
    "    w = np.random.randn(2)\n",
    "    b = 0\n",
    "    result = target(X, y, w, b)\n",
    "    assert np.isclose(result, 2.15510667), f\"Wrong output. Expected: {2.15510667} got: {result}\"\n",
    "\n",
    "    X = np.random.randn(4, 3)\n",
    "    y = np.array([1, 1, 0, 0])\n",
    "    w = np.random.randn(3)\n",
    "    b = 0\n",
    "\n",
    "    result = target(X, y, w, b)\n",
    "    assert np.isclose(result, 0.80709376), f\"Wrong output. Expected: {0.80709376} got: {result}\"\n",
    "\n",
    "    X = np.random.randn(4, 3)\n",
    "    y = np.array([1, 0,1, 0])\n",
    "    w = np.random.randn(3)\n",
    "    b = 3\n",
    "    result = target(X, y, w, b)\n",
    "    assert np.isclose(result, 0.4529660647), f\"Wrong output. Expected: {0.4529660647} got: {result}. Did you inizialized z_wb = b?\"\n",
    "\n",
    "    print('\\033[92mTests passed!')"
   ]
  },
  {
   "cell_type": "code",
   "execution_count": 107,
   "metadata": {
    "id": "PRIqcpJ17MzH"
   },
   "outputs": [],
   "source": [
    "#computing cost\n",
    "def compute_cost(X,y,w,b):\n",
    "#write your code\n",
    "    cost=0\n",
    "    m=X.shape[0]\n",
    "    for i in range(m):\n",
    "        f=np.matmul(X[i,:],w)+b\n",
    "        g=sigmoid(f)\n",
    "        cost=cost-((y[i])*np.log(g)+(1-y[i])*np.log(1-g))\n",
    "    total_cost=cost/m\n",
    "\n",
    "    return total_cost"
   ]
  },
  {
   "cell_type": "code",
   "execution_count": 108,
   "metadata": {
    "id": "MPOvLzL5H5-5"
   },
   "outputs": [
    {
     "name": "stdout",
     "output_type": "stream",
     "text": [
      "Cost at test w,b: 11.777\n",
      "\u001b[92mTests passed!\n"
     ]
    }
   ],
   "source": [
    "test_w = np.array([0.2, 0.2])\n",
    "test_b = -24.\n",
    "cost = compute_cost(X_train, y_train, test_w, test_b)\n",
    "\n",
    "print('Cost at test w,b: {:.3f}'.format(cost))\n",
    "\n",
    "\n",
    "# test\n",
    "compute_cost_test(compute_cost)"
   ]
  },
  {
   "cell_type": "code",
   "execution_count": 157,
   "metadata": {
    "id": "ULkWUBkO7ffh"
   },
   "outputs": [],
   "source": [
    "#compute regularised cost\n",
    "def compute_cost_reg(X, y, w, b, lambda_ =1):\n",
    "#write your code\n",
    "    cost=0\n",
    "    m=X.shape[0]\n",
    "    n=X.shape[1]\n",
    "    for i in range(m):\n",
    "        f=np.matmul(X[i,:],w)+b\n",
    "        g=sigmoid(f)\n",
    "        cost=cost-((y[i])*np.log(g)+(1-y[i])*np.log(1-g))\n",
    "        for j in range(n):\n",
    "            cost=cost+((lambda_)*((w[j])**2))/2\n",
    "    total_cost=cost/m\n",
    "\n",
    "    return total_cost"
   ]
  },
  {
   "cell_type": "code",
   "execution_count": 158,
   "metadata": {
    "cellView": "form",
    "id": "OhFbPakDGKQj"
   },
   "outputs": [],
   "source": [
    "# @title DO NOT EDIT THIS CODE\n",
    "def compute_cost_reg_test(target):\n",
    "    np.random.seed(1)\n",
    "    w = np.random.randn(3)\n",
    "    b = 0.4\n",
    "    X = np.random.randn(6, 3)\n",
    "    y = np.array([0, 1, 1, 0, 1, 1])\n",
    "    lambda_ = 0.1\n",
    "    expected_output = target(X, y, w, b, lambda_)\n",
    "\n",
    "    assert np.isclose(expected_output, 0.5469746792761936), f\"Wrong output. Expected: {0.5469746792761936} got:{expected_output}\"\n",
    "\n",
    "    w = np.random.randn(5)\n",
    "    b = -0.6\n",
    "    X = np.random.randn(8, 5)\n",
    "    y = np.array([1, 0, 1, 0, 0, 1, 0, 1])\n",
    "    lambda_ = 0.01\n",
    "    output = target(X, y, w, b, lambda_)\n",
    "    assert np.isclose(output, 1.2608591964119995), f\"Wrong output. Expected: {1.2608591964119995} got:{output}\"\n",
    "\n",
    "    w = np.array([2, 2, 2, 2, 2])\n",
    "    b = 0\n",
    "    X = np.zeros((8, 5))\n",
    "    y = np.array([0.5] * 8)\n",
    "    lambda_ = 3\n",
    "    output = target(X, y, w, b, lambda_)\n",
    "    expected = -np.log(0.5) + 3. / (2. * 8.) * 20.\n",
    "    assert np.isclose(output, expected), f\"Wrong output. Expected: {expected} got:{output}\"\n",
    "\n",
    "    print('\\033[92mAll tests passed!')"
   ]
  },
  {
   "cell_type": "code",
   "execution_count": 159,
   "metadata": {
    "id": "jO14e7OD7syR"
   },
   "outputs": [
    {
     "name": "stdout",
     "output_type": "stream",
     "text": [
      "Regularised cost : 1.2511265692334597\n"
     ]
    },
    {
     "ename": "AssertionError",
     "evalue": "Wrong output. Expected: 0.5469746792761936 got:0.6854625613589151",
     "output_type": "error",
     "traceback": [
      "\u001b[1;31m---------------------------------------------------------------------------\u001b[0m",
      "\u001b[1;31mAssertionError\u001b[0m                            Traceback (most recent call last)",
      "Cell \u001b[1;32mIn[159], line 11\u001b[0m\n\u001b[0;32m      8\u001b[0m \u001b[38;5;28mprint\u001b[39m(\u001b[38;5;124m\"\u001b[39m\u001b[38;5;124mRegularised cost :\u001b[39m\u001b[38;5;124m\"\u001b[39m, cost)\n\u001b[0;32m     10\u001b[0m \u001b[38;5;66;03m#test\u001b[39;00m\n\u001b[1;32m---> 11\u001b[0m \u001b[43mcompute_cost_reg_test\u001b[49m\u001b[43m(\u001b[49m\u001b[43mcompute_cost_reg\u001b[49m\u001b[43m)\u001b[49m\n",
      "Cell \u001b[1;32mIn[158], line 11\u001b[0m, in \u001b[0;36mcompute_cost_reg_test\u001b[1;34m(target)\u001b[0m\n\u001b[0;32m      8\u001b[0m lambda_ \u001b[38;5;241m=\u001b[39m \u001b[38;5;241m0.1\u001b[39m\n\u001b[0;32m      9\u001b[0m expected_output \u001b[38;5;241m=\u001b[39m target(X, y, w, b, lambda_)\n\u001b[1;32m---> 11\u001b[0m \u001b[38;5;28;01massert\u001b[39;00m np\u001b[38;5;241m.\u001b[39misclose(expected_output, \u001b[38;5;241m0.5469746792761936\u001b[39m), \u001b[38;5;124mf\u001b[39m\u001b[38;5;124m\"\u001b[39m\u001b[38;5;124mWrong output. Expected: \u001b[39m\u001b[38;5;132;01m{\u001b[39;00m\u001b[38;5;241m0.5469746792761936\u001b[39m\u001b[38;5;132;01m}\u001b[39;00m\u001b[38;5;124m got:\u001b[39m\u001b[38;5;132;01m{\u001b[39;00mexpected_output\u001b[38;5;132;01m}\u001b[39;00m\u001b[38;5;124m\"\u001b[39m\n\u001b[0;32m     13\u001b[0m w \u001b[38;5;241m=\u001b[39m np\u001b[38;5;241m.\u001b[39mrandom\u001b[38;5;241m.\u001b[39mrandn(\u001b[38;5;241m5\u001b[39m)\n\u001b[0;32m     14\u001b[0m b \u001b[38;5;241m=\u001b[39m \u001b[38;5;241m-\u001b[39m\u001b[38;5;241m0.6\u001b[39m\n",
      "\u001b[1;31mAssertionError\u001b[0m: Wrong output. Expected: 0.5469746792761936 got:0.6854625613589151"
     ]
    }
   ],
   "source": [
    "X_mapped = map_feature(X_train[:, 0], X_train[:, 1])\n",
    "np.random.seed(1)\n",
    "initial_w = np.random.rand(X_mapped.shape[1]) - 0.5\n",
    "initial_b = 0.5\n",
    "lambda_ = 0.5\n",
    "cost = compute_cost_reg(X_mapped, y_train, initial_w, initial_b, lambda_)\n",
    "\n",
    "print(\"Regularised cost :\", cost)\n",
    "\n",
    "#test\n",
    "compute_cost_reg_test(compute_cost_reg)"
   ]
  },
  {
   "cell_type": "code",
   "execution_count": 112,
   "metadata": {
    "cellView": "form",
    "id": "plQBUPM2IRei"
   },
   "outputs": [],
   "source": [
    "# @title DO NOT EDIT THIS CODE\n",
    "def compute_gradient_test(target):\n",
    "    np.random.seed(1)\n",
    "    X = np.random.randn(7, 3)\n",
    "    y = np.array([1, 0, 1, 0, 1, 1, 0])\n",
    "    test_w = np.array([1, 0.5, -0.35])\n",
    "    test_b = 1.7\n",
    "    dj_db, dj_dw  = target(X, y, test_w, test_b)\n",
    "\n",
    "    assert np.isclose(dj_db, 0.28936094), f\"Wrong value for dj_db. Expected: {0.28936094} got: {dj_db}\"\n",
    "    assert dj_dw.shape == test_w.shape, f\"Wrong shape for dj_dw. Expected: {test_w.shape} got: {dj_dw.shape}\"\n",
    "    assert np.allclose(dj_dw, [-0.11999166, 0.41498775, -0.71968405]), f\"Wrong values for dj_dw. Got: {dj_dw}\"\n",
    "\n",
    "    print('\\033[92mTests passed!')"
   ]
  },
  {
   "cell_type": "code",
   "execution_count": 113,
   "metadata": {
    "id": "v27SzhYX8-ug"
   },
   "outputs": [],
   "source": [
    "#compute gradient\n",
    "def compute_gradient(X, y, w, b, lambda_=None):\n",
    "#write your code\n",
    "    w.reshape(-1,1)\n",
    "    m=X.shape[0]\n",
    "    n=X.shape[1]\n",
    "    dj_dw=[0]*n\n",
    "    dj_db= 0\n",
    "    for i in range(m):\n",
    "        f=np.matmul(X[i,:],w)+b\n",
    "        g=sigmoid(f) \n",
    "        for j in range(n):\n",
    "            dj_dw[j]=dj_dw[j]+(g-y[i])*X[i,j]\n",
    "        dj_db=dj_db+(g-y[i])\n",
    "    dj_dw=np.array(dj_dw)\n",
    "    dj_dw=dj_dw/m\n",
    "    dj_db=dj_db/m\n",
    "    return dj_db,dj_dw"
   ]
  },
  {
   "cell_type": "code",
   "execution_count": 114,
   "metadata": {
    "id": "WLmFL2yuIPUA"
   },
   "outputs": [
    {
     "name": "stdout",
     "output_type": "stream",
     "text": [
      "dj_db at test_w: -0.4915254236924827\n",
      "dj_dw at test_w: [-0.008601361012465367, -0.09147300847306211]\n",
      "\u001b[92mTests passed!\n"
     ]
    }
   ],
   "source": [
    "test_w = np.array([ 0.2, -0.5])\n",
    "test_b = -24\n",
    "dj_db, dj_dw  = compute_gradient(X_train, y_train, test_w, test_b)\n",
    "print('dj_db at test_w:', dj_db)\n",
    "print('dj_dw at test_w:', dj_dw.tolist())\n",
    "\n",
    "# test\n",
    "compute_gradient_test(compute_gradient)"
   ]
  },
  {
   "cell_type": "code",
   "execution_count": 150,
   "metadata": {
    "id": "TGfUArz09TMl"
   },
   "outputs": [],
   "source": [
    "#compute regularised gradient\n",
    "def compute_gradient_reg(X, y, w, b, lambda_=1):\n",
    "#write your code\n",
    "    w.reshape(-1,1)\n",
    "    m=X.shape[0]\n",
    "    n=X.shape[1]\n",
    "    dj_dw=[0]*n\n",
    "    dj_db= 0\n",
    "    for i in range(m):\n",
    "        f=np.matmul(X[i,:],w)+b\n",
    "        g=sigmoid(f) \n",
    "        for j in range(n):\n",
    "            dj_dw[j]=dj_dw[j]+(g-y[i])*X[i,j]\n",
    "        dj_db=dj_db+(g-y[i])\n",
    "        dj_dw[j]=dj_dw[j]+lambda_*w[j]\n",
    "    dj_dw=np.array(dj_dw)\n",
    "    dj_dw=dj_dw/m\n",
    "    dj_db=dj_db/m\n",
    "    \n",
    "    return dj_db,dj_dw"
   ]
  },
  {
   "cell_type": "code",
   "execution_count": 151,
   "metadata": {
    "cellView": "form",
    "id": "KNRCWIc8G2cp"
   },
   "outputs": [],
   "source": [
    "# @title DO NOT EDIT THIS CODE\n",
    "def compute_gradient_reg_test(target):\n",
    "    np.random.seed(1)\n",
    "    w = np.random.randn(5)\n",
    "    b = 0.2\n",
    "    X = np.random.randn(7, 5)\n",
    "    y = np.array([0, 1, 1, 0, 1, 1, 0])\n",
    "    lambda_ = 0.1\n",
    "    expected1 = (-0.1506447567869257, np.array([ 0.19530838, -0.00632206,  0.19687367,  0.15741161,  0.02791437]))\n",
    "    dj_db, dj_dw = target(X, y, w, b, lambda_)\n",
    "\n",
    "    assert np.isclose(dj_db, expected1[0]), f\"Wrong dj_db. Expected: {expected1[0]} got: {dj_db}\"\n",
    "    assert np.allclose(dj_dw, expected1[1]), f\"Wrong dj_dw. Expected: {expected1[1]} got: {dj_dw}\"\n",
    "\n",
    "\n",
    "    w = np.random.randn(7)\n",
    "    b = 0\n",
    "    X = np.random.randn(7, 7)\n",
    "    y = np.array([1, 0, 0, 0, 1, 1, 0])\n",
    "    lambda_ = 0\n",
    "    expected2 = (0.02660329857573818, np.array([ 0.23567643, -0.06921029, -0.19705212, -0.0002884 ,  0.06490588,\n",
    "        0.26948175,  0.10777992]))\n",
    "    dj_db, dj_dw = target(X, y, w, b, lambda_)\n",
    "    assert np.isclose(dj_db, expected2[0]), f\"Wrong dj_db. Expected: {expected2[0]} got: {dj_db}\"\n",
    "    assert np.allclose(dj_dw, expected2[1]), f\"Wrong dj_dw. Expected: {expected2[1]} got: {dj_dw}\"\n",
    "\n",
    "    print('\\033[92mTests passed!')"
   ]
  },
  {
   "cell_type": "code",
   "execution_count": 152,
   "metadata": {
    "id": "3_of_BHJ9hEc"
   },
   "outputs": [
    {
     "name": "stdout",
     "output_type": "stream",
     "text": [
      "dj_db: 0.07138288792343662\n"
     ]
    },
    {
     "ename": "AssertionError",
     "evalue": "Wrong dj_dw. Expected: [ 0.19530838 -0.00632206  0.19687367  0.15741161  0.02791437] got: [0.17210345 0.00241732 0.20441898 0.17273973 0.10209217]",
     "output_type": "error",
     "traceback": [
      "\u001b[1;31m---------------------------------------------------------------------------\u001b[0m",
      "\u001b[1;31mAssertionError\u001b[0m                            Traceback (most recent call last)",
      "Cell \u001b[1;32mIn[152], line 11\u001b[0m\n\u001b[0;32m      9\u001b[0m \u001b[38;5;28mprint\u001b[39m(\u001b[38;5;124mf\u001b[39m\u001b[38;5;124m\"\u001b[39m\u001b[38;5;124mdj_db: \u001b[39m\u001b[38;5;132;01m{\u001b[39;00mdj_db\u001b[38;5;132;01m}\u001b[39;00m\u001b[38;5;124m\"\u001b[39m )\n\u001b[0;32m     10\u001b[0m \u001b[38;5;66;03m#test\u001b[39;00m\n\u001b[1;32m---> 11\u001b[0m \u001b[43mcompute_gradient_reg_test\u001b[49m\u001b[43m(\u001b[49m\u001b[43mcompute_gradient_reg\u001b[49m\u001b[43m)\u001b[49m\n",
      "Cell \u001b[1;32mIn[151], line 13\u001b[0m, in \u001b[0;36mcompute_gradient_reg_test\u001b[1;34m(target)\u001b[0m\n\u001b[0;32m     10\u001b[0m dj_db, dj_dw \u001b[38;5;241m=\u001b[39m target(X, y, w, b, lambda_)\n\u001b[0;32m     12\u001b[0m \u001b[38;5;28;01massert\u001b[39;00m np\u001b[38;5;241m.\u001b[39misclose(dj_db, expected1[\u001b[38;5;241m0\u001b[39m]), \u001b[38;5;124mf\u001b[39m\u001b[38;5;124m\"\u001b[39m\u001b[38;5;124mWrong dj_db. Expected: \u001b[39m\u001b[38;5;132;01m{\u001b[39;00mexpected1[\u001b[38;5;241m0\u001b[39m]\u001b[38;5;132;01m}\u001b[39;00m\u001b[38;5;124m got: \u001b[39m\u001b[38;5;132;01m{\u001b[39;00mdj_db\u001b[38;5;132;01m}\u001b[39;00m\u001b[38;5;124m\"\u001b[39m\n\u001b[1;32m---> 13\u001b[0m \u001b[38;5;28;01massert\u001b[39;00m np\u001b[38;5;241m.\u001b[39mallclose(dj_dw, expected1[\u001b[38;5;241m1\u001b[39m]), \u001b[38;5;124mf\u001b[39m\u001b[38;5;124m\"\u001b[39m\u001b[38;5;124mWrong dj_dw. Expected: \u001b[39m\u001b[38;5;132;01m{\u001b[39;00mexpected1[\u001b[38;5;241m1\u001b[39m]\u001b[38;5;132;01m}\u001b[39;00m\u001b[38;5;124m got: \u001b[39m\u001b[38;5;132;01m{\u001b[39;00mdj_dw\u001b[38;5;132;01m}\u001b[39;00m\u001b[38;5;124m\"\u001b[39m\n\u001b[0;32m     16\u001b[0m w \u001b[38;5;241m=\u001b[39m np\u001b[38;5;241m.\u001b[39mrandom\u001b[38;5;241m.\u001b[39mrandn(\u001b[38;5;241m7\u001b[39m)\n\u001b[0;32m     17\u001b[0m b \u001b[38;5;241m=\u001b[39m \u001b[38;5;241m0\u001b[39m\n",
      "\u001b[1;31mAssertionError\u001b[0m: Wrong dj_dw. Expected: [ 0.19530838 -0.00632206  0.19687367  0.15741161  0.02791437] got: [0.17210345 0.00241732 0.20441898 0.17273973 0.10209217]"
     ]
    }
   ],
   "source": [
    "X_mapped = map_feature(X_train[:, 0], X_train[:, 1])\n",
    "np.random.seed(1)\n",
    "initial_w  = np.random.rand(X_mapped.shape[1]) - 0.5\n",
    "initial_b = 0.5\n",
    "\n",
    "lambda_ = 0.5\n",
    "dj_db, dj_dw = compute_gradient_reg(X_mapped, y_train, initial_w, initial_b, lambda_)\n",
    "\n",
    "print(f\"dj_db: {dj_db}\" )\n",
    "#test\n",
    "compute_gradient_reg_test(compute_gradient_reg)"
   ]
  },
  {
   "cell_type": "code",
   "execution_count": 135,
   "metadata": {
    "id": "c5y3Nb9Z_SC4"
   },
   "outputs": [],
   "source": [
    "np.random.seed(1)\n",
    "initial_w = np.random.rand(X_mapped.shape[1])-0.5\n",
    "initial_b = 1.\n",
    "lambda_ = 0.01\n",
    "iterations = 1000\n",
    "alpha = 0.06\n",
    "def gradient_descent(X_mapped, y_train, initial_w, initial_b,\n",
    "                                    compute_cost_reg, compute_gradient_reg,\n",
    "                                    alpha, iterations, lambda_):\n",
    "\n",
    "#write your code\n",
    "    _=0\n",
    "    J_history=[]\n",
    "    while (_<iterations):\n",
    "        dj_db,dj_dw=compute_gradient_reg(X_mapped, y_train, initial_w, initial_b,lambda_)\n",
    "        initial_w=initial_w-alpha*dj_dw\n",
    "        initial_b=initial_b-alpha*dj_db\n",
    "        _=_+1\n",
    "        J_history.append(compute_cost_reg(X_mapped, y_train, initial_w, initial_b,lambda_))\n",
    "    w=initial_w\n",
    "    b=initial_b\n",
    "    \n",
    "    return w, b, J_history, _\n",
    "\n",
    "w,b, J_history,_ = gradient_descent(X_mapped, y_train, initial_w, initial_b,\n",
    "                                    compute_cost_reg, compute_gradient_reg,\n",
    "                                    alpha, iterations, lambda_)"
   ]
  },
  {
   "cell_type": "code",
   "execution_count": 136,
   "metadata": {
    "id": "cqSOrJsTAf9p"
   },
   "outputs": [],
   "source": [
    "#plot decision boundary\n",
    "def plot_decision_boundary(w,b,X,y):\n",
    "\n",
    "    plot_data(X[:, 0:2], y)\n",
    "\n",
    "    if X.shape[1] <= 2:\n",
    "        plot_x = np.array([min(X[:, 0]), max(X[:, 0])])\n",
    "        plot_y = (-1. / w[1]) * (w[0] * plot_x + b)\n",
    "\n",
    "        plt.plot(plot_x, plot_y, c=\"b\")\n",
    "\n",
    "    else:\n",
    "        u = np.linspace(-1, 1.5, 50)\n",
    "        v = np.linspace(-1, 1.5, 50)\n",
    "\n",
    "        z = np.zeros((len(u), len(v)))\n",
    "\n",
    "\n",
    "        for i in range(len(u)):\n",
    "            for j in range(len(v)):\n",
    "                z[i,j] = sigmoid(np.dot(map_feature(u[i], v[j]), w) + b)\n",
    "\n",
    "\n",
    "        z = z.T\n",
    "\n",
    "\n",
    "        plt.contour(u,v,z, levels = [0.5], colors=\"g\")"
   ]
  },
  {
   "cell_type": "code",
   "execution_count": 137,
   "metadata": {
    "id": "etir_m_AAyYC"
   },
   "outputs": [
    {
     "name": "stderr",
     "output_type": "stream",
     "text": [
      "C:\\Users\\VIJAY ISRANI\\AppData\\Local\\Temp\\ipykernel_35232\\1319808980.py:21: DeprecationWarning: Conversion of an array with ndim > 0 to a scalar is deprecated, and will error in future. Ensure you extract a single element from your array before performing this operation. (Deprecated NumPy 1.25.)\n",
      "  z[i,j] = sigmoid(np.dot(map_feature(u[i], v[j]), w) + b)\n"
     ]
    },
    {
     "data": {
      "image/png": "[encoded data removed]",
      "text/plain": [
       "<Figure size 640x480 with 1 Axes>"
      ]
     },
     "metadata": {},
     "output_type": "display_data"
    }
   ],
   "source": [
    "plot_decision_boundary(w, b, X_mapped, y_train)"
   ]
  },
  {
   "cell_type": "code",
   "execution_count": 145,
   "metadata": {
    "id": "MD2Dup4OA1ew"
   },
   "outputs": [],
   "source": [
    "#predict your training model\n",
    "def predict(X, w, b):\n",
    "    m,n=X.shape\n",
    "    p=np.zeros(m)\n",
    "  #write your code\n",
    "    f=np.matmul(X,w)+b\n",
    "    g=sigmoid(f)\n",
    "    for i in range(m):\n",
    "        if g[i]>=0.5:\n",
    "            p[i]=1\n",
    "\n",
    "\n",
    "    return p"
   ]
  },
  {
   "cell_type": "code",
   "execution_count": 146,
   "metadata": {
    "id": "TAhIPFIsBTjk"
   },
   "outputs": [
    {
     "name": "stdout",
     "output_type": "stream",
     "text": [
      "Accuracy of training model: 83.050847\n"
     ]
    }
   ],
   "source": [
    "p = predict(X_mapped, w, b)\n",
    "\n",
    "print('Accuracy of training model: %f'%(np.mean(p == y_train) * 100))"
   ]
  },
  {
   "cell_type": "code",
   "execution_count": null,
   "metadata": {},
   "outputs": [],
   "source": []
  }
 ],
 "metadata": {
  "colab": {
   "provenance": []
  },
  "kernelspec": {
   "display_name": "Python 3 (ipykernel)",
   "language": "python",
   "name": "python3"
  },
  "language_info": {
   "codemirror_mode": {
    "name": "ipython",
    "version": 3
   },
   "file_extension": ".py",
   "mimetype": "text/x-python",
   "name": "python",
   "nbconvert_exporter": "python",
   "pygments_lexer": "ipython3",
   "version": "3.12.1"
  }
 },
 "nbformat": 4,
 "nbformat_minor": 4
}
